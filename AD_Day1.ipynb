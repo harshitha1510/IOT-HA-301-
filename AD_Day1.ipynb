{
  "nbformat": 4,
  "nbformat_minor": 0,
  "metadata": {
    "colab": {
      "provenance": [],
      "authorship_tag": "ABX9TyOewwdRVMx2B1muj5BRI/Qe",
      "include_colab_link": true
    },
    "kernelspec": {
      "name": "python3",
      "display_name": "Python 3"
    },
    "language_info": {
      "name": "python"
    }
  },
  "cells": [
    {
      "cell_type": "markdown",
      "metadata": {
        "id": "view-in-github",
        "colab_type": "text"
      },
      "source": [
        "<a href=\"https://colab.research.google.com/github/harshitha1510/IOT-HA-301-/blob/main/AD_Day1.ipynb\" target=\"_parent\"><img src=\"https://colab.research.google.com/assets/colab-badge.svg\" alt=\"Open In Colab\"/></a>"
      ]
    },
    {
      "cell_type": "code",
      "execution_count": 1,
      "metadata": {
        "colab": {
          "base_uri": "https://localhost:8080/"
        },
        "id": "ykUA05GmjYmy",
        "outputId": "5b8d68b2-cc65-438d-c84a-ec1b9346b804"
      },
      "outputs": [
        {
          "output_type": "stream",
          "name": "stdout",
          "text": [
            "Value: 42 | Type: <class 'int'>\n",
            "Value: 3.14 | Type: <class 'float'>\n",
            "Value: Hello, Jupyter! | Type: <class 'str'>\n",
            "Value: True | Type: <class 'bool'>\n"
          ]
        }
      ],
      "source": [
        "# Integer\n",
        "my_integer = 42\n",
        "print(\"Value:\", my_integer, \"| Type:\", type(my_integer))\n",
        "\n",
        "# Float\n",
        "my_float = 3.14\n",
        "print(\"Value:\", my_float, \"| Type:\", type(my_float))\n",
        "\n",
        "# String\n",
        "my_string = \"Hello, Jupyter!\"\n",
        "print(\"Value:\", my_string, \"| Type:\", type(my_string))\n",
        "\n",
        "# Boolean\n",
        "my_boolean = True\n",
        "print(\"Value:\", my_boolean, \"| Type:\", type(my_boolean))\n"
      ]
    },
    {
      "cell_type": "code",
      "source": [],
      "metadata": {
        "id": "cSjmphdTjh5K"
      },
      "execution_count": null,
      "outputs": []
    }
  ]
}