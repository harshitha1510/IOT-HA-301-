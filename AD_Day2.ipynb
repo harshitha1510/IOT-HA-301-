{
  "nbformat": 4,
  "nbformat_minor": 0,
  "metadata": {
    "colab": {
      "provenance": [],
      "authorship_tag": "ABX9TyMM5CfK8eKRopTsW84GJmyU",
      "include_colab_link": true
    },
    "kernelspec": {
      "name": "python3",
      "display_name": "Python 3"
    },
    "language_info": {
      "name": "python"
    }
  },
  "cells": [
    {
      "cell_type": "markdown",
      "metadata": {
        "id": "view-in-github",
        "colab_type": "text"
      },
      "source": [
        "<a href=\"https://colab.research.google.com/github/harshitha1510/IOT-HA-301-/blob/main/AD_Day2.ipynb\" target=\"_parent\"><img src=\"https://colab.research.google.com/assets/colab-badge.svg\" alt=\"Open In Colab\"/></a>"
      ]
    },
    {
      "cell_type": "code",
      "execution_count": 1,
      "metadata": {
        "colab": {
          "base_uri": "https://localhost:8080/"
        },
        "id": "KNToPXXwlMoG",
        "outputId": "f2879846-b958-457c-eb4d-4cf8e7a8420f"
      },
      "outputs": [
        {
          "output_type": "stream",
          "name": "stdout",
          "text": [
            "List: [10, 20, 30, 40, 50]\n",
            "Element at index 0: 10\n",
            "Element at index 3: 40\n",
            "Slice from index 1 to 3: [20, 30, 40]\n",
            "\n",
            "Tuple: ('apple', 'banana', 'cherry', 'date', 'elderberry')\n",
            "Element at index 2: cherry\n",
            "Last element: elderberry\n",
            "\n",
            "Dictionary: {'name': 'Alice', 'age': 25, 'city': 'New York', 'job': 'Engineer', 'hobby': 'Reading'}\n",
            "Value for 'name': Alice\n",
            "Value for 'hobby': Reading\n",
            "Value for 'job': Engineer\n"
          ]
        }
      ],
      "source": [
        "#Create a List, tuple and Dictionary with 5 elements in it and how to access few elements based on the index. Try  with different examples\n",
        "\n",
        "# List with 5 elements\n",
        "my_list = [10, 20, 30, 40, 50]\n",
        "print(\"List:\", my_list)\n",
        "print(\"Element at index 0:\", my_list[0])\n",
        "print(\"Element at index 3:\", my_list[3])\n",
        "print(\"Slice from index 1 to 3:\", my_list[1:4])  # Slicing the list\n",
        "\n",
        "# Tuple with 5 elements\n",
        "my_tuple = (\"apple\", \"banana\", \"cherry\", \"date\", \"elderberry\")\n",
        "print(\"\\nTuple:\", my_tuple)\n",
        "print(\"Element at index 2:\", my_tuple[2])\n",
        "print(\"Last element:\", my_tuple[-1])  # Accessing with negative index\n",
        "\n",
        "# Dictionary with 5 key-value pairs\n",
        "my_dict = {\n",
        "    \"name\": \"Alice\",\n",
        "    \"age\": 25,\n",
        "    \"city\": \"New York\",\n",
        "    \"job\": \"Engineer\",\n",
        "    \"hobby\": \"Reading\"\n",
        "}\n",
        "print(\"\\nDictionary:\", my_dict)\n",
        "print(\"Value for 'name':\", my_dict[\"name\"])\n",
        "print(\"Value for 'hobby':\", my_dict[\"hobby\"])\n",
        "print(\"Value for 'job':\", my_dict.get(\"job\"))\n"
      ]
    },
    {
      "cell_type": "code",
      "source": [],
      "metadata": {
        "id": "4RwwCXHxnOU7"
      },
      "execution_count": null,
      "outputs": []
    }
  ]
}